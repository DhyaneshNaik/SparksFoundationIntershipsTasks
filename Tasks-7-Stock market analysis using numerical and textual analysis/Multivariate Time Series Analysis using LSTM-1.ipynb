{
 "cells": [
  {
   "cell_type": "code",
   "execution_count": 1,
   "metadata": {},
   "outputs": [],
   "source": [
    "# import required libraries\n",
    "\n",
    "import numpy as np\n",
    "import pandas as pd\n",
    "import matplotlib.pyplot as plt\n",
    "%matplotlib inline\n",
    "from matplotlib.pyplot import rcParams\n",
    "rcParams['figure.figsize']=10,6\n",
    "\n",
    "from pandas import set_option\n",
    "#set_option('precision',5)\n",
    "pd.options.display.float_format = '{:.5f}'.format\n",
    "\n",
    "\n",
    "# Import Libraries and packages from tensorflow.Keras\n",
    "from tensorflow.keras.callbacks import EarlyStopping, ReduceLROnPlateau, ModelCheckpoint, TensorBoard\n",
    "from tensorflow.keras.models import Sequential\n",
    "from tensorflow.keras.layers import Dense, Dropout, LSTM\n",
    "from tensorflow.keras.optimizers import Adam"
   ]
  },
  {
   "cell_type": "code",
   "execution_count": 2,
   "metadata": {},
   "outputs": [],
   "source": [
    "# read the data\n",
    "\n",
    "dataset = pd.read_csv('US_Gold_stockdata.csv',index_col='Date',parse_dates=True,infer_datetime_format=True)"
   ]
  },
  {
   "cell_type": "code",
   "execution_count": 3,
   "metadata": {},
   "outputs": [
    {
     "data": {
      "text/html": [
       "<div>\n",
       "<style scoped>\n",
       "    .dataframe tbody tr th:only-of-type {\n",
       "        vertical-align: middle;\n",
       "    }\n",
       "\n",
       "    .dataframe tbody tr th {\n",
       "        vertical-align: top;\n",
       "    }\n",
       "\n",
       "    .dataframe thead th {\n",
       "        text-align: right;\n",
       "    }\n",
       "</style>\n",
       "<table border=\"1\" class=\"dataframe\">\n",
       "  <thead>\n",
       "    <tr style=\"text-align: right;\">\n",
       "      <th></th>\n",
       "      <th>Open</th>\n",
       "      <th>High</th>\n",
       "      <th>Low</th>\n",
       "      <th>Close</th>\n",
       "      <th>Adj Close</th>\n",
       "      <th>Volume</th>\n",
       "    </tr>\n",
       "    <tr>\n",
       "      <th>Date</th>\n",
       "      <th></th>\n",
       "      <th></th>\n",
       "      <th></th>\n",
       "      <th></th>\n",
       "      <th></th>\n",
       "      <th></th>\n",
       "    </tr>\n",
       "  </thead>\n",
       "  <tbody>\n",
       "    <tr>\n",
       "      <td>2001-01-01</td>\n",
       "      <td>nan</td>\n",
       "      <td>nan</td>\n",
       "      <td>nan</td>\n",
       "      <td>nan</td>\n",
       "      <td>nan</td>\n",
       "      <td>nan</td>\n",
       "    </tr>\n",
       "    <tr>\n",
       "      <td>2001-01-02</td>\n",
       "      <td>268.39999</td>\n",
       "      <td>268.39999</td>\n",
       "      <td>268.39999</td>\n",
       "      <td>268.39999</td>\n",
       "      <td>268.39999</td>\n",
       "      <td>0.00000</td>\n",
       "    </tr>\n",
       "    <tr>\n",
       "      <td>2001-01-03</td>\n",
       "      <td>268.00000</td>\n",
       "      <td>268.00000</td>\n",
       "      <td>268.00000</td>\n",
       "      <td>268.00000</td>\n",
       "      <td>268.00000</td>\n",
       "      <td>1.00000</td>\n",
       "    </tr>\n",
       "    <tr>\n",
       "      <td>2001-01-04</td>\n",
       "      <td>267.29999</td>\n",
       "      <td>267.29999</td>\n",
       "      <td>267.29999</td>\n",
       "      <td>267.29999</td>\n",
       "      <td>267.29999</td>\n",
       "      <td>1.00000</td>\n",
       "    </tr>\n",
       "    <tr>\n",
       "      <td>2001-01-05</td>\n",
       "      <td>268.00000</td>\n",
       "      <td>268.00000</td>\n",
       "      <td>268.00000</td>\n",
       "      <td>268.00000</td>\n",
       "      <td>268.00000</td>\n",
       "      <td>0.00000</td>\n",
       "    </tr>\n",
       "  </tbody>\n",
       "</table>\n",
       "</div>"
      ],
      "text/plain": [
       "                Open      High       Low     Close  Adj Close  Volume\n",
       "Date                                                                 \n",
       "2001-01-01       nan       nan       nan       nan        nan     nan\n",
       "2001-01-02 268.39999 268.39999 268.39999 268.39999  268.39999 0.00000\n",
       "2001-01-03 268.00000 268.00000 268.00000 268.00000  268.00000 1.00000\n",
       "2001-01-04 267.29999 267.29999 267.29999 267.29999  267.29999 1.00000\n",
       "2001-01-05 268.00000 268.00000 268.00000 268.00000  268.00000 0.00000"
      ]
     },
     "execution_count": 3,
     "metadata": {},
     "output_type": "execute_result"
    }
   ],
   "source": [
    "dataset.head()"
   ]
  },
  {
   "cell_type": "code",
   "execution_count": 4,
   "metadata": {},
   "outputs": [],
   "source": [
    "# drop null values and Volume column\n",
    "\n",
    "dataset.dropna(axis = 0, inplace = True) \n",
    "dataset.drop(['Volume','Adj Close'], axis = 1, inplace = True) "
   ]
  },
  {
   "cell_type": "code",
   "execution_count": 5,
   "metadata": {},
   "outputs": [
    {
     "data": {
      "text/html": [
       "<div>\n",
       "<style scoped>\n",
       "    .dataframe tbody tr th:only-of-type {\n",
       "        vertical-align: middle;\n",
       "    }\n",
       "\n",
       "    .dataframe tbody tr th {\n",
       "        vertical-align: top;\n",
       "    }\n",
       "\n",
       "    .dataframe thead th {\n",
       "        text-align: right;\n",
       "    }\n",
       "</style>\n",
       "<table border=\"1\" class=\"dataframe\">\n",
       "  <thead>\n",
       "    <tr style=\"text-align: right;\">\n",
       "      <th></th>\n",
       "      <th>Open</th>\n",
       "      <th>High</th>\n",
       "      <th>Low</th>\n",
       "      <th>Close</th>\n",
       "    </tr>\n",
       "    <tr>\n",
       "      <th>Date</th>\n",
       "      <th></th>\n",
       "      <th></th>\n",
       "      <th></th>\n",
       "      <th></th>\n",
       "    </tr>\n",
       "  </thead>\n",
       "  <tbody>\n",
       "    <tr>\n",
       "      <td>2001-01-02</td>\n",
       "      <td>268.39999</td>\n",
       "      <td>268.39999</td>\n",
       "      <td>268.39999</td>\n",
       "      <td>268.39999</td>\n",
       "    </tr>\n",
       "    <tr>\n",
       "      <td>2001-01-03</td>\n",
       "      <td>268.00000</td>\n",
       "      <td>268.00000</td>\n",
       "      <td>268.00000</td>\n",
       "      <td>268.00000</td>\n",
       "    </tr>\n",
       "    <tr>\n",
       "      <td>2001-01-04</td>\n",
       "      <td>267.29999</td>\n",
       "      <td>267.29999</td>\n",
       "      <td>267.29999</td>\n",
       "      <td>267.29999</td>\n",
       "    </tr>\n",
       "    <tr>\n",
       "      <td>2001-01-05</td>\n",
       "      <td>268.00000</td>\n",
       "      <td>268.00000</td>\n",
       "      <td>268.00000</td>\n",
       "      <td>268.00000</td>\n",
       "    </tr>\n",
       "    <tr>\n",
       "      <td>2001-01-08</td>\n",
       "      <td>268.00000</td>\n",
       "      <td>268.00000</td>\n",
       "      <td>268.00000</td>\n",
       "      <td>268.00000</td>\n",
       "    </tr>\n",
       "  </tbody>\n",
       "</table>\n",
       "</div>"
      ],
      "text/plain": [
       "                Open      High       Low     Close\n",
       "Date                                              \n",
       "2001-01-02 268.39999 268.39999 268.39999 268.39999\n",
       "2001-01-03 268.00000 268.00000 268.00000 268.00000\n",
       "2001-01-04 267.29999 267.29999 267.29999 267.29999\n",
       "2001-01-05 268.00000 268.00000 268.00000 268.00000\n",
       "2001-01-08 268.00000 268.00000 268.00000 268.00000"
      ]
     },
     "execution_count": 5,
     "metadata": {},
     "output_type": "execute_result"
    }
   ],
   "source": [
    "dataset.head()"
   ]
  },
  {
   "cell_type": "code",
   "execution_count": 6,
   "metadata": {},
   "outputs": [
    {
     "data": {
      "text/plain": [
       "DatetimeIndex(['2001-01-02', '2001-01-03', '2001-01-04', '2001-01-05',\n",
       "               '2001-01-08'],\n",
       "              dtype='datetime64[ns]', name='Date', freq=None)"
      ]
     },
     "execution_count": 6,
     "metadata": {},
     "output_type": "execute_result"
    }
   ],
   "source": [
    "datelist = dataset.index\n",
    "datelist[:5]"
   ]
  },
  {
   "cell_type": "code",
   "execution_count": 7,
   "metadata": {},
   "outputs": [
    {
     "name": "stdout",
     "output_type": "stream",
     "text": [
      "Training set shape: (5058, 4)\n",
      "Date list shape: (5058,)\n",
      "Features in training set: Index(['Open', 'High', 'Low', 'Close'], dtype='object')\n"
     ]
    }
   ],
   "source": [
    "print(f\"Training set shape: {dataset.shape}\")\n",
    "print(f\"Date list shape: {datelist.shape}\")\n",
    "print(f\"Features in training set: {dataset.columns}\")"
   ]
  },
  {
   "cell_type": "code",
   "execution_count": 8,
   "metadata": {},
   "outputs": [
    {
     "name": "stderr",
     "output_type": "stream",
     "text": [
      "C:\\Users\\DELL\\Anaconda3\\lib\\site-packages\\pandas\\plotting\\_matplotlib\\converter.py:103: FutureWarning: Using an implicitly registered datetime converter for a matplotlib plotting method. The converter was registered by pandas on import. Future versions of pandas will require you to explicitly register matplotlib converters.\n",
      "\n",
      "To register the converters:\n",
      "\t>>> from pandas.plotting import register_matplotlib_converters\n",
      "\t>>> register_matplotlib_converters()\n",
      "  warnings.warn(msg, FutureWarning)\n"
     ]
    },
    {
     "data": {
      "image/png": "[encoded data removed]",
      "text/plain": [
       "<Figure size 1440x720 with 1 Axes>"
      ]
     },
     "metadata": {
      "needs_background": "light"
     },
     "output_type": "display_data"
    }
   ],
   "source": [
    "# visualization\n",
    "\n",
    "plt.figure(figsize=(20,10))\n",
    "plt.title('Open and close Prize', fontsize=18)\n",
    "plt.plot(dataset['Open'], label = 'Open', color = 'r')\n",
    "plt.plot(dataset['Close'], label = 'Close', color = 'b')\n",
    "plt.xlabel('Date', fontsize=18)\n",
    "plt.ylabel('Prize in USD ($)', fontsize=18)\n",
    "plt.legend( fontsize=18)\n",
    "plt.grid()\n",
    "plt.show()"
   ]
  },
  {
   "cell_type": "code",
   "execution_count": null,
   "metadata": {},
   "outputs": [],
   "source": []
  },
  {
   "cell_type": "code",
   "execution_count": 9,
   "metadata": {},
   "outputs": [
    {
     "name": "stdout",
     "output_type": "stream",
     "text": [
      "<class 'pandas.core.frame.DataFrame'>\n",
      "DatetimeIndex: 5058 entries, 2001-01-02 to 2020-12-11\n",
      "Data columns (total 4 columns):\n",
      "Open     5058 non-null float64\n",
      "High     5058 non-null float64\n",
      "Low      5058 non-null float64\n",
      "Close    5058 non-null float64\n",
      "dtypes: float64(4)\n",
      "memory usage: 197.6 KB\n"
     ]
    }
   ],
   "source": [
    "# some preprocessing and data preparation steps \n",
    "\n",
    "dataset.info()"
   ]
  },
  {
   "cell_type": "code",
   "execution_count": 10,
   "metadata": {},
   "outputs": [
    {
     "name": "stdout",
     "output_type": "stream",
     "text": [
      "Shape of traning set: (5058, 4)\n"
     ]
    },
    {
     "data": {
      "text/plain": [
       "array([[ 268.399994,  268.399994,  268.399994,  268.399994],\n",
       "       [ 268.      ,  268.      ,  268.      ,  268.      ],\n",
       "       [ 267.299988,  267.299988,  267.299988,  267.299988],\n",
       "       ...,\n",
       "       [1867.099976, 1867.099976, 1827.      , 1834.599976],\n",
       "       [1833.199951, 1849.099976, 1828.      , 1833.599976],\n",
       "       [1840.      , 1851.800049, 1826.800049, 1842.699951]])"
      ]
     },
     "execution_count": 10,
     "metadata": {},
     "output_type": "execute_result"
    }
   ],
   "source": [
    "data = dataset.iloc[:].values\n",
    "print(f\"Shape of traning set: {data.shape}\")\n",
    "data"
   ]
  },
  {
   "cell_type": "code",
   "execution_count": 11,
   "metadata": {},
   "outputs": [
    {
     "data": {
      "text/plain": [
       "array([[-1.57840676],\n",
       "       [-1.57925074],\n",
       "       [-1.58072775],\n",
       "       ...,\n",
       "       [ 1.79480735],\n",
       "       [ 1.72327921],\n",
       "       [ 1.73762713]])"
      ]
     },
     "execution_count": 11,
     "metadata": {},
     "output_type": "execute_result"
    }
   ],
   "source": [
    "# all the data should be on the same scale for training RNN network\n",
    "# because large values can have high impact on the predictions\n",
    "# And also RNN works well when values are on the same scale\n",
    "\n",
    "from sklearn.preprocessing import StandardScaler\n",
    "\n",
    "# one standaard scaler for independent variable \n",
    "scaler = StandardScaler()\n",
    "traning_data_scaled = scaler.fit_transform(data)\n",
    "\n",
    "# one standaard scaler for dependent variable that we want to predict\n",
    "scaler_predict = StandardScaler()\n",
    "predict_data_scaled = scaler_predict.fit_transform(data[:,0:1])\n",
    "predict_data_scaled"
   ]
  },
  {
   "cell_type": "code",
   "execution_count": 54,
   "metadata": {},
   "outputs": [
    {
     "name": "stdout",
     "output_type": "stream",
     "text": [
      "X_train shape: (4909, 90, 4)\n",
      "y_train shape: (4909, 1)\n"
     ]
    }
   ],
   "source": [
    "# creating the dataset for model traning and prediction\n",
    "\n",
    "X_train = []\n",
    "y_train = []\n",
    "\n",
    "n_future = 60   # number of days we need to predict into future\n",
    "n_past = 90     # number of days we want to use to predict the future\n",
    "\n",
    "for i in range(n_past, len(traning_data_scaled) - n_future + 1):\n",
    "    X_train.append(traning_data_scaled[i - n_past:i, 0: data.shape[1]]) # 0: data.shape[1]-1 # [i - n_past: i, 0: data.shape[1]]\n",
    "    y_train.append(predict_data_scaled[i-1:i, 0])# i + n_future-1:i + n_future\n",
    "    \n",
    "X_train, y_train = np.array(X_train), np.array(y_train)\n",
    "    \n",
    "print(f\"X_train shape: {X_train.shape}\")\n",
    "print(f\"y_train shape: {y_train.shape}\")"
   ]
  },
  {
   "cell_type": "code",
   "execution_count": 55,
   "metadata": {},
   "outputs": [
    {
     "data": {
      "text/plain": [
       "(90, 4)"
      ]
     },
     "execution_count": 55,
     "metadata": {},
     "output_type": "execute_result"
    }
   ],
   "source": [
    "X_train[0].shape"
   ]
  },
  {
   "cell_type": "code",
   "execution_count": 56,
   "metadata": {},
   "outputs": [],
   "source": [
    "# creating a model\n",
    "# Initializing the Neural Network based on LSTM\n",
    "model = Sequential()\n",
    "\n",
    "# Adding 1st LSTM layer\n",
    "model.add(LSTM(units=64, return_sequences=True, input_shape = X_train[0].shape))\n",
    "\n",
    "# Adding 2nd LSTM layer\n",
    "model.add(LSTM(units=32, return_sequences=False))\n",
    "\n",
    "# Adding Dropout\n",
    "model.add(Dropout(0.25))\n",
    "\n",
    "# Output layer\n",
    "model.add(Dense(units=1, activation='linear'))\n",
    "\n",
    "# Compiling the Neural Network\n",
    "model.compile(optimizer = Adam(learning_rate=0.001), loss='mean_squared_error')"
   ]
  },
  {
   "cell_type": "code",
   "execution_count": 57,
   "metadata": {},
   "outputs": [
    {
     "name": "stdout",
     "output_type": "stream",
     "text": [
      "Epoch 1/15\n",
      "31/31 [==============================] - 5s 165ms/step - loss: 0.1809 - val_loss: 0.0268 - lr: 0.0010\n",
      "Epoch 2/15\n",
      "31/31 [==============================] - 4s 143ms/step - loss: 0.0271 - val_loss: 0.0073 - lr: 0.0010\n",
      "Epoch 3/15\n",
      "31/31 [==============================] - 4s 137ms/step - loss: 0.0201 - val_loss: 0.0053 - lr: 0.0010\n",
      "Epoch 4/15\n",
      "31/31 [==============================] - 4s 139ms/step - loss: 0.0158 - val_loss: 0.0059 - lr: 0.0010\n",
      "Epoch 5/15\n",
      "31/31 [==============================] - 4s 138ms/step - loss: 0.0147 - val_loss: 0.0045 - lr: 0.0010\n",
      "Epoch 6/15\n",
      "31/31 [==============================] - 4s 134ms/step - loss: 0.0142 - val_loss: 0.0042 - lr: 0.0010\n",
      "Epoch 7/15\n",
      "31/31 [==============================] - 4s 137ms/step - loss: 0.0132 - val_loss: 0.0059 - lr: 0.0010\n",
      "Epoch 8/15\n",
      "31/31 [==============================] - 4s 136ms/step - loss: 0.0128 - val_loss: 0.0057 - lr: 0.0010\n",
      "Epoch 9/15\n",
      "31/31 [==============================] - 4s 136ms/step - loss: 0.0133 - val_loss: 0.0040 - lr: 0.0010\n",
      "Epoch 10/15\n",
      "31/31 [==============================] - 4s 139ms/step - loss: 0.0133 - val_loss: 0.0065 - lr: 0.0010\n",
      "Epoch 11/15\n",
      "31/31 [==============================] - 4s 141ms/step - loss: 0.0130 - val_loss: 0.0035 - lr: 0.0010\n",
      "Epoch 12/15\n",
      "31/31 [==============================] - 4s 136ms/step - loss: 0.0128 - val_loss: 0.0024 - lr: 0.0010\n",
      "Epoch 13/15\n",
      "31/31 [==============================] - 4s 142ms/step - loss: 0.0126 - val_loss: 0.0022 - lr: 0.0010\n",
      "Epoch 14/15\n",
      "31/31 [==============================] - 4s 143ms/step - loss: 0.0125 - val_loss: 0.0019 - lr: 0.0010\n",
      "Epoch 15/15\n",
      "31/31 [==============================] - 4s 138ms/step - loss: 0.0123 - val_loss: 0.0019 - lr: 0.0010\n"
     ]
    }
   ],
   "source": [
    "es = EarlyStopping(monitor='val_loss', min_delta=1e-10, patience=10, verbose=1)\n",
    "rlr = ReduceLROnPlateau(monitor='val_loss', factor=0.5, patience=10, verbose=1)\n",
    "tb = TensorBoard('logs')\n",
    "\n",
    "history = model.fit(X_train, y_train, epochs=15, callbacks=[es, rlr], validation_split=0.2, verbose=1, batch_size=128)"
   ]
  },
  {
   "cell_type": "code",
   "execution_count": 58,
   "metadata": {},
   "outputs": [
    {
     "data": {
      "image/png": "[encoded data removed]",
      "text/plain": [
       "<Figure size 1008x576 with 1 Axes>"
      ]
     },
     "metadata": {
      "needs_background": "light"
     },
     "output_type": "display_data"
    }
   ],
   "source": [
    "plt.plot(history.history['loss'],label =\"Training Loss\")\n",
    "plt.plot(history.history['val_loss'],label =\"Training Loss\")\n",
    "plt.legend()\n",
    "plt.title(\"Loss\")\n",
    "plt.show()"
   ]
  },
  {
   "cell_type": "code",
   "execution_count": 59,
   "metadata": {},
   "outputs": [],
   "source": [
    "# make Future Predictions\n",
    "\n",
    "datelist_future = pd.date_range(datelist[-1], periods=n_future, freq='1d').to_list()\n",
    "\n",
    "# Convert Pandas Timestamp to Datetime object (for transformation) --> FUTURE\n",
    "#datelist_future_ = []\n",
    "#for this_timestamp in datelist_future:\n",
    "#    datelist_future_.append(this_timestamp.date())"
   ]
  },
  {
   "cell_type": "code",
   "execution_count": 60,
   "metadata": {},
   "outputs": [
    {
     "data": {
      "text/html": [
       "<div>\n",
       "<style scoped>\n",
       "    .dataframe tbody tr th:only-of-type {\n",
       "        vertical-align: middle;\n",
       "    }\n",
       "\n",
       "    .dataframe tbody tr th {\n",
       "        vertical-align: top;\n",
       "    }\n",
       "\n",
       "    .dataframe thead th {\n",
       "        text-align: right;\n",
       "    }\n",
       "</style>\n",
       "<table border=\"1\" class=\"dataframe\">\n",
       "  <thead>\n",
       "    <tr style=\"text-align: right;\">\n",
       "      <th></th>\n",
       "      <th>Open</th>\n",
       "    </tr>\n",
       "    <tr>\n",
       "      <th>Date</th>\n",
       "      <th></th>\n",
       "    </tr>\n",
       "  </thead>\n",
       "  <tbody>\n",
       "    <tr>\n",
       "      <td>2001-12-18</td>\n",
       "      <td>288.65524</td>\n",
       "    </tr>\n",
       "    <tr>\n",
       "      <td>2001-12-19</td>\n",
       "      <td>290.02536</td>\n",
       "    </tr>\n",
       "    <tr>\n",
       "      <td>2001-12-20</td>\n",
       "      <td>291.22086</td>\n",
       "    </tr>\n",
       "  </tbody>\n",
       "</table>\n",
       "</div>"
      ],
      "text/plain": [
       "                Open\n",
       "Date                \n",
       "2001-12-18 288.65524\n",
       "2001-12-19 290.02536\n",
       "2001-12-20 291.22086"
      ]
     },
     "execution_count": 60,
     "metadata": {},
     "output_type": "execute_result"
    }
   ],
   "source": [
    "# Perform predictions\n",
    "predictions_future = model.predict(X_train[-n_future:])\n",
    "predictions_train = model.predict(X_train[n_past:])\n",
    "\n",
    "y_pred_future = scaler_predict.inverse_transform(predictions_future)\n",
    "y_pred_train = scaler_predict.inverse_transform(predictions_train)\n",
    "\n",
    "PREDICTIONS_FUTURE = pd.DataFrame(y_pred_future, columns=['Open']).set_index(pd.Series(datelist_future))\n",
    "PREDICTION_TRAIN = pd.DataFrame(y_pred_train, columns=['Open']).set_index(pd.Series(datelist[2 * n_past + n_future -1:]))\n",
    "\n",
    "\n",
    "\n",
    "PREDICTION_TRAIN.head(3)"
   ]
  },
  {
   "cell_type": "code",
   "execution_count": 63,
   "metadata": {},
   "outputs": [
    {
     "data": {
      "image/png": "[encoded data removed]",
      "text/plain": [
       "<Figure size 1008x576 with 1 Axes>"
      ]
     },
     "metadata": {
      "needs_background": "light"
     },
     "output_type": "display_data"
    }
   ],
   "source": [
    "# Plot parameters\n",
    "rcParams['figure.figsize'] = 14, 8\n",
    "\n",
    "START_DATE_FOR_PLOTTING = '2017-01-01'\n",
    "\n",
    "plt.plot(PREDICTIONS_FUTURE.index, PREDICTIONS_FUTURE['Open'], color='r', label='Predicted Stock Price')\n",
    "plt.plot(PREDICTION_TRAIN.loc[START_DATE_FOR_PLOTTING:].index, PREDICTION_TRAIN.loc[START_DATE_FOR_PLOTTING:]['Open'], color='orange', label='Training predictions')\n",
    "plt.plot(dataset.loc[START_DATE_FOR_PLOTTING:].index, dataset.loc[START_DATE_FOR_PLOTTING:]['Open'], color='b', label='Actual Stock Price')\n",
    "\n",
    "plt.axvline(x = min(PREDICTIONS_FUTURE.index), color='green', linewidth=2, linestyle='--')\n",
    "\n",
    "plt.grid(which='major', color='#cccccc', alpha=0.5)\n",
    "\n",
    "plt.legend(shadow=True)\n",
    "plt.title('Predcitions and Acutal Stock Prices', family='Arial', fontsize=12)\n",
    "plt.xlabel('Timeline', family='Arial', fontsize=10)\n",
    "plt.ylabel('Stock Price Value', family='Arial', fontsize=10)\n",
    "plt.xticks(rotation=45, fontsize=8)\n",
    "plt.show()"
   ]
  },
  {
   "cell_type": "code",
   "execution_count": 62,
   "metadata": {},
   "outputs": [
    {
     "data": {
      "text/html": [
       "<div>\n",
       "<style scoped>\n",
       "    .dataframe tbody tr th:only-of-type {\n",
       "        vertical-align: middle;\n",
       "    }\n",
       "\n",
       "    .dataframe tbody tr th {\n",
       "        vertical-align: top;\n",
       "    }\n",
       "\n",
       "    .dataframe thead th {\n",
       "        text-align: right;\n",
       "    }\n",
       "</style>\n",
       "<table border=\"1\" class=\"dataframe\">\n",
       "  <thead>\n",
       "    <tr style=\"text-align: right;\">\n",
       "      <th></th>\n",
       "      <th>Open</th>\n",
       "    </tr>\n",
       "  </thead>\n",
       "  <tbody>\n",
       "    <tr>\n",
       "      <td>2020-12-11</td>\n",
       "      <td>1781.74646</td>\n",
       "    </tr>\n",
       "    <tr>\n",
       "      <td>2020-12-12</td>\n",
       "      <td>1783.89014</td>\n",
       "    </tr>\n",
       "    <tr>\n",
       "      <td>2020-12-13</td>\n",
       "      <td>1787.23376</td>\n",
       "    </tr>\n",
       "    <tr>\n",
       "      <td>2020-12-14</td>\n",
       "      <td>1790.50305</td>\n",
       "    </tr>\n",
       "    <tr>\n",
       "      <td>2020-12-15</td>\n",
       "      <td>1793.03210</td>\n",
       "    </tr>\n",
       "    <tr>\n",
       "      <td>2020-12-16</td>\n",
       "      <td>1795.35645</td>\n",
       "    </tr>\n",
       "    <tr>\n",
       "      <td>2020-12-17</td>\n",
       "      <td>1797.60364</td>\n",
       "    </tr>\n",
       "    <tr>\n",
       "      <td>2020-12-18</td>\n",
       "      <td>1798.65759</td>\n",
       "    </tr>\n",
       "    <tr>\n",
       "      <td>2020-12-19</td>\n",
       "      <td>1800.18579</td>\n",
       "    </tr>\n",
       "    <tr>\n",
       "      <td>2020-12-20</td>\n",
       "      <td>1800.75598</td>\n",
       "    </tr>\n",
       "    <tr>\n",
       "      <td>2020-12-21</td>\n",
       "      <td>1801.00452</td>\n",
       "    </tr>\n",
       "    <tr>\n",
       "      <td>2020-12-22</td>\n",
       "      <td>1801.84070</td>\n",
       "    </tr>\n",
       "    <tr>\n",
       "      <td>2020-12-23</td>\n",
       "      <td>1802.59180</td>\n",
       "    </tr>\n",
       "    <tr>\n",
       "      <td>2020-12-24</td>\n",
       "      <td>1805.04553</td>\n",
       "    </tr>\n",
       "    <tr>\n",
       "      <td>2020-12-25</td>\n",
       "      <td>1810.65149</td>\n",
       "    </tr>\n",
       "    <tr>\n",
       "      <td>2020-12-26</td>\n",
       "      <td>1818.47180</td>\n",
       "    </tr>\n",
       "    <tr>\n",
       "      <td>2020-12-27</td>\n",
       "      <td>1827.99121</td>\n",
       "    </tr>\n",
       "    <tr>\n",
       "      <td>2020-12-28</td>\n",
       "      <td>1838.84387</td>\n",
       "    </tr>\n",
       "    <tr>\n",
       "      <td>2020-12-29</td>\n",
       "      <td>1850.12720</td>\n",
       "    </tr>\n",
       "    <tr>\n",
       "      <td>2020-12-30</td>\n",
       "      <td>1862.66638</td>\n",
       "    </tr>\n",
       "    <tr>\n",
       "      <td>2020-12-31</td>\n",
       "      <td>1875.93518</td>\n",
       "    </tr>\n",
       "    <tr>\n",
       "      <td>2021-01-01</td>\n",
       "      <td>1887.30371</td>\n",
       "    </tr>\n",
       "    <tr>\n",
       "      <td>2021-01-02</td>\n",
       "      <td>1898.00916</td>\n",
       "    </tr>\n",
       "    <tr>\n",
       "      <td>2021-01-03</td>\n",
       "      <td>1910.68823</td>\n",
       "    </tr>\n",
       "    <tr>\n",
       "      <td>2021-01-04</td>\n",
       "      <td>1919.90039</td>\n",
       "    </tr>\n",
       "    <tr>\n",
       "      <td>2021-01-05</td>\n",
       "      <td>1928.64490</td>\n",
       "    </tr>\n",
       "    <tr>\n",
       "      <td>2021-01-06</td>\n",
       "      <td>1939.29785</td>\n",
       "    </tr>\n",
       "    <tr>\n",
       "      <td>2021-01-07</td>\n",
       "      <td>1950.87988</td>\n",
       "    </tr>\n",
       "    <tr>\n",
       "      <td>2021-01-08</td>\n",
       "      <td>1959.60352</td>\n",
       "    </tr>\n",
       "    <tr>\n",
       "      <td>2021-01-09</td>\n",
       "      <td>1967.94849</td>\n",
       "    </tr>\n",
       "    <tr>\n",
       "      <td>2021-01-10</td>\n",
       "      <td>1974.11572</td>\n",
       "    </tr>\n",
       "    <tr>\n",
       "      <td>2021-01-11</td>\n",
       "      <td>1972.63550</td>\n",
       "    </tr>\n",
       "    <tr>\n",
       "      <td>2021-01-12</td>\n",
       "      <td>1965.60669</td>\n",
       "    </tr>\n",
       "    <tr>\n",
       "      <td>2021-01-13</td>\n",
       "      <td>1959.14648</td>\n",
       "    </tr>\n",
       "    <tr>\n",
       "      <td>2021-01-14</td>\n",
       "      <td>1952.71704</td>\n",
       "    </tr>\n",
       "    <tr>\n",
       "      <td>2021-01-15</td>\n",
       "      <td>1947.15405</td>\n",
       "    </tr>\n",
       "    <tr>\n",
       "      <td>2021-01-16</td>\n",
       "      <td>1943.13525</td>\n",
       "    </tr>\n",
       "    <tr>\n",
       "      <td>2021-01-17</td>\n",
       "      <td>1942.25977</td>\n",
       "    </tr>\n",
       "    <tr>\n",
       "      <td>2021-01-18</td>\n",
       "      <td>1939.81543</td>\n",
       "    </tr>\n",
       "    <tr>\n",
       "      <td>2021-01-19</td>\n",
       "      <td>1935.58569</td>\n",
       "    </tr>\n",
       "    <tr>\n",
       "      <td>2021-01-20</td>\n",
       "      <td>1930.74292</td>\n",
       "    </tr>\n",
       "    <tr>\n",
       "      <td>2021-01-21</td>\n",
       "      <td>1927.38293</td>\n",
       "    </tr>\n",
       "    <tr>\n",
       "      <td>2021-01-22</td>\n",
       "      <td>1923.15173</td>\n",
       "    </tr>\n",
       "    <tr>\n",
       "      <td>2021-01-23</td>\n",
       "      <td>1918.28320</td>\n",
       "    </tr>\n",
       "    <tr>\n",
       "      <td>2021-01-24</td>\n",
       "      <td>1914.03809</td>\n",
       "    </tr>\n",
       "    <tr>\n",
       "      <td>2021-01-25</td>\n",
       "      <td>1911.35754</td>\n",
       "    </tr>\n",
       "    <tr>\n",
       "      <td>2021-01-26</td>\n",
       "      <td>1909.83301</td>\n",
       "    </tr>\n",
       "    <tr>\n",
       "      <td>2021-01-27</td>\n",
       "      <td>1912.59485</td>\n",
       "    </tr>\n",
       "    <tr>\n",
       "      <td>2021-01-28</td>\n",
       "      <td>1915.16357</td>\n",
       "    </tr>\n",
       "    <tr>\n",
       "      <td>2021-01-29</td>\n",
       "      <td>1918.39807</td>\n",
       "    </tr>\n",
       "    <tr>\n",
       "      <td>2021-01-30</td>\n",
       "      <td>1919.82935</td>\n",
       "    </tr>\n",
       "    <tr>\n",
       "      <td>2021-01-31</td>\n",
       "      <td>1919.31458</td>\n",
       "    </tr>\n",
       "    <tr>\n",
       "      <td>2021-02-01</td>\n",
       "      <td>1917.75000</td>\n",
       "    </tr>\n",
       "    <tr>\n",
       "      <td>2021-02-02</td>\n",
       "      <td>1915.35925</td>\n",
       "    </tr>\n",
       "    <tr>\n",
       "      <td>2021-02-03</td>\n",
       "      <td>1913.86804</td>\n",
       "    </tr>\n",
       "    <tr>\n",
       "      <td>2021-02-04</td>\n",
       "      <td>1914.01172</td>\n",
       "    </tr>\n",
       "    <tr>\n",
       "      <td>2021-02-05</td>\n",
       "      <td>1913.87976</td>\n",
       "    </tr>\n",
       "    <tr>\n",
       "      <td>2021-02-06</td>\n",
       "      <td>1914.46362</td>\n",
       "    </tr>\n",
       "    <tr>\n",
       "      <td>2021-02-07</td>\n",
       "      <td>1916.13232</td>\n",
       "    </tr>\n",
       "    <tr>\n",
       "      <td>2021-02-08</td>\n",
       "      <td>1918.12964</td>\n",
       "    </tr>\n",
       "  </tbody>\n",
       "</table>\n",
       "</div>"
      ],
      "text/plain": [
       "                 Open\n",
       "2020-12-11 1781.74646\n",
       "2020-12-12 1783.89014\n",
       "2020-12-13 1787.23376\n",
       "2020-12-14 1790.50305\n",
       "2020-12-15 1793.03210\n",
       "2020-12-16 1795.35645\n",
       "2020-12-17 1797.60364\n",
       "2020-12-18 1798.65759\n",
       "2020-12-19 1800.18579\n",
       "2020-12-20 1800.75598\n",
       "2020-12-21 1801.00452\n",
       "2020-12-22 1801.84070\n",
       "2020-12-23 1802.59180\n",
       "2020-12-24 1805.04553\n",
       "2020-12-25 1810.65149\n",
       "2020-12-26 1818.47180\n",
       "2020-12-27 1827.99121\n",
       "2020-12-28 1838.84387\n",
       "2020-12-29 1850.12720\n",
       "2020-12-30 1862.66638\n",
       "2020-12-31 1875.93518\n",
       "2021-01-01 1887.30371\n",
       "2021-01-02 1898.00916\n",
       "2021-01-03 1910.68823\n",
       "2021-01-04 1919.90039\n",
       "2021-01-05 1928.64490\n",
       "2021-01-06 1939.29785\n",
       "2021-01-07 1950.87988\n",
       "2021-01-08 1959.60352\n",
       "2021-01-09 1967.94849\n",
       "2021-01-10 1974.11572\n",
       "2021-01-11 1972.63550\n",
       "2021-01-12 1965.60669\n",
       "2021-01-13 1959.14648\n",
       "2021-01-14 1952.71704\n",
       "2021-01-15 1947.15405\n",
       "2021-01-16 1943.13525\n",
       "2021-01-17 1942.25977\n",
       "2021-01-18 1939.81543\n",
       "2021-01-19 1935.58569\n",
       "2021-01-20 1930.74292\n",
       "2021-01-21 1927.38293\n",
       "2021-01-22 1923.15173\n",
       "2021-01-23 1918.28320\n",
       "2021-01-24 1914.03809\n",
       "2021-01-25 1911.35754\n",
       "2021-01-26 1909.83301\n",
       "2021-01-27 1912.59485\n",
       "2021-01-28 1915.16357\n",
       "2021-01-29 1918.39807\n",
       "2021-01-30 1919.82935\n",
       "2021-01-31 1919.31458\n",
       "2021-02-01 1917.75000\n",
       "2021-02-02 1915.35925\n",
       "2021-02-03 1913.86804\n",
       "2021-02-04 1914.01172\n",
       "2021-02-05 1913.87976\n",
       "2021-02-06 1914.46362\n",
       "2021-02-07 1916.13232\n",
       "2021-02-08 1918.12964"
      ]
     },
     "execution_count": 62,
     "metadata": {},
     "output_type": "execute_result"
    }
   ],
   "source": [
    "PREDICTIONS_FUTURE"
   ]
  },
  {
   "cell_type": "code",
   "execution_count": null,
   "metadata": {},
   "outputs": [],
   "source": []
  }
 ],
 "metadata": {
  "kernelspec": {
   "display_name": "Python 3.7.4 64-bit ('base': conda)",
   "language": "python",
   "name": "python37464bitbasecondaa573941c101e496e993423501ebafa10"
  },
  "language_info": {
   "codemirror_mode": {
    "name": "ipython",
    "version": 3
   },
   "file_extension": ".py",
   "mimetype": "text/x-python",
   "name": "python",
   "nbconvert_exporter": "python",
   "pygments_lexer": "ipython3",
   "version": "3.7.4"
  }
 },
 "nbformat": 4,
 "nbformat_minor": 2
}
